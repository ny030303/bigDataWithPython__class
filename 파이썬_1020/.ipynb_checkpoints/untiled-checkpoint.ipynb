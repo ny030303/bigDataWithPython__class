{
 "cells": [
  {
   "cell_type": "code",
   "execution_count": 2,
   "metadata": {},
   "outputs": [
    {
     "name": "stdout",
     "output_type": "stream",
     "text": [
      "비밀번호 일치\n"
     ]
    }
   ],
   "source": [
    "password = 1234\n",
    "\n",
    "if password == 1234 :\n",
    "    print('비밀번호 일치')\n",
    "else :\n",
    "    print('비밀번호 불일치')\n",
    "    "
   ]
  },
  {
   "cell_type": "code",
   "execution_count": 7,
   "metadata": {},
   "outputs": [],
   "source": [
    "password = 1234\n",
    "\n",
    "if password == 12341 :\n",
    "    print('비밀번호 일치')\n",
    "else :\n",
    "    pass #아무것도 수행하지 않을 경우\n",
    "    "
   ]
  },
  {
   "cell_type": "code",
   "execution_count": 10,
   "metadata": {},
   "outputs": [
    {
     "name": "stdout",
     "output_type": "stream",
     "text": [
      "아이디 입력 : flower\n",
      "비밀번호 입력1234\n",
      "로그인 성공\n"
     ]
    }
   ],
   "source": [
    "#로그인 프로그램\n",
    "ID = 'flower'\n",
    "password = '1234'\n",
    "\n",
    "#사용자로부터 키보드를 통해 값을 입력 받기\n",
    "input_id = input(\"아이디 입력 : \") ## 입력되는 data는 문자열로 처리\n",
    "input_pass = input(\"비밀번호 입력\")\n",
    "\n",
    "#두 값이 모두 일치하면 로그인 성공\n",
    "if (ID == input_id) and (password == input_pass) :\n",
    "    print('로그인 성공')\n",
    "else :\n",
    "    print('로그인 실패!')"
   ]
  },
  {
   "cell_type": "code",
   "execution_count": 12,
   "metadata": {},
   "outputs": [
    {
     "name": "stdout",
     "output_type": "stream",
     "text": [
      "첫번 째 수 입력 : 3\n",
      "두번 째 수 입력 : 3\n",
      "6\n"
     ]
    }
   ],
   "source": [
    "#사용자로부터 두 수를 입력받아 더한 결과를 출력하는 코드 작성.\n",
    "su1 = int(input('첫번 째 수 입력 : '))\n",
    "su2 = int(input('두번 째 수 입력 : '))\n",
    "\n",
    "print(su1 + su2)"
   ]
  },
  {
   "cell_type": "code",
   "execution_count": 20,
   "metadata": {},
   "outputs": [
    {
     "name": "stdout",
     "output_type": "stream",
     "text": [
      "정수 입력 : 2\n",
      "양수\n"
     ]
    }
   ],
   "source": [
    "#if~elif ~ else\n",
    "num = int(input('정수 입력 : '))\n",
    "\n",
    "if num < 0 :\n",
    "    print('음수')\n",
    "elif num > 0 :\n",
    "    print('양수')\n",
    "else :\n",
    "    print('0')"
   ]
  },
  {
   "cell_type": "code",
   "execution_count": 21,
   "metadata": {},
   "outputs": [
    {
     "name": "stdout",
     "output_type": "stream",
     "text": [
      "정수1 입력 : 2\n",
      "정수2 입력 : 3\n",
      "정수3 입력 : 4\n",
      "제일 큰 수 :  4\n"
     ]
    }
   ],
   "source": [
    "#if~elif ~ else\n",
    "num1 = int(input('정수1 입력 : '))\n",
    "num2 = int(input('정수2 입력 : '))\n",
    "num3 = int(input('정수3 입력 : '))\n",
    "\n",
    "if num1 > num2 and num1 > num3:\n",
    "    print(num1)\n",
    "elif num2 > num1 and num2 > num3 :\n",
    "    print(num2)\n",
    "elif num3 > num1 and num3 > num2 :\n",
    "    print('제일 큰 수 : ',num3)\n"
   ]
  },
  {
   "cell_type": "markdown",
   "metadata": {},
   "source": [
    "반복문"
   ]
  },
  {
   "cell_type": "code",
   "execution_count": 22,
   "metadata": {},
   "outputs": [
    {
     "name": "stdout",
     "output_type": "stream",
     "text": [
      "홍길동\n",
      "이몽룡\n",
      "성춘향\n",
      "변학도\n",
      "0\n",
      "1\n",
      "2\n",
      "3\n",
      "4\n",
      "5\n",
      "6\n",
      "7\n",
      "8\n",
      "9\n"
     ]
    }
   ],
   "source": [
    "#for 변수 in 리스트 또는 범위\n",
    "for name in ['홍길동', '이몽룡', '성춘향', '변학도'] :\n",
    "    print(name)\n",
    "    \n",
    "for x in range(0,10):\n",
    "    print(x)\n"
   ]
  },
  {
   "cell_type": "code",
   "execution_count": 24,
   "metadata": {},
   "outputs": [
    {
     "name": "stdout",
     "output_type": "stream",
     "text": [
      "홍길동 이몽룡 성춘향 변학도  \n",
      "0\n",
      "1\n",
      "2\n",
      "3\n",
      "4\n",
      "5\n",
      "6\n",
      "7\n",
      "8\n",
      "9\n"
     ]
    }
   ],
   "source": [
    "#출력시 print문은 줄바꿈을 표현한다. 줄바꿈 없이 출력 end=\n",
    "for name in ['홍길동', '이몽룡', '성춘향', '변학도'] :\n",
    "    print(name, end=' ')\n",
    "\n",
    "print(' ') # 커서를 내리는 역할을 하게 됨\n",
    "for x in range(0,10):\n",
    "    print(x)\n"
   ]
  },
  {
   "cell_type": "code",
   "execution_count": 25,
   "metadata": {},
   "outputs": [
    {
     "name": "stdout",
     "output_type": "stream",
     "text": [
      "0\n",
      "2\n",
      "4\n",
      "6\n",
      "8\n"
     ]
    }
   ],
   "source": [
    "for x in range(0,10,2):\n",
    "    print(x)\n"
   ]
  },
  {
   "cell_type": "code",
   "execution_count": 27,
   "metadata": {},
   "outputs": [
    {
     "name": "stdout",
     "output_type": "stream",
     "text": [
      "11 12 13 14 15 16 17 18 19 20 21 "
     ]
    }
   ],
   "source": [
    "#숫자 11부터 21까지를 한줄에 출력하시오.\n",
    "#단, 한칸 띄어서 출력할 것\n",
    "\n",
    "for x in range(11,22):\n",
    "    print(x, end=\" \")\n"
   ]
  },
  {
   "cell_type": "code",
   "execution_count": 30,
   "metadata": {},
   "outputs": [
    {
     "name": "stdout",
     "output_type": "stream",
     "text": [
      "22\n"
     ]
    }
   ],
   "source": [
    "#1부터 10까지 합을 출력\n",
    "sumx = 0 # 누적 변수 반복문에서 쓰기 전에 선언되어야 한다.\n",
    "for x in range(0,11) :\n",
    "    sumx = sumx + num\n",
    "    \n",
    "print(sumx)"
   ]
  },
  {
   "cell_type": "markdown",
   "metadata": {},
   "source": [
    "# 문자열"
   ]
  },
  {
   "cell_type": "code",
   "execution_count": 31,
   "metadata": {},
   "outputs": [
    {
     "name": "stdout",
     "output_type": "stream",
     "text": [
      "파이썬파이썬파이썬\n"
     ]
    }
   ],
   "source": [
    "# 문자열 곱하기\n",
    "# 곱한 수 만큼 문자열이 반복되어 생성\n",
    "\n",
    "string = '파이썬'\n",
    "\n",
    "result = string * 3\n",
    "\n",
    "print(result)"
   ]
  },
  {
   "cell_type": "code",
   "execution_count": 32,
   "metadata": {},
   "outputs": [
    {
     "name": "stdout",
     "output_type": "stream",
     "text": [
      "Data crawling is fun\n",
      "Data\n",
      "crawling is\n",
      "fun\n",
      "n\n",
      "n\n",
      "Data crawling is fu\n",
      " fun\n"
     ]
    }
   ],
   "source": [
    "#문자열 슬라이싱 (문자열의 일부분을 추출 하는 기능)\n",
    "crawling = 'Data crawling is fun'\n",
    "parsing = 'Data parsing is also fun'\n",
    "print(crawling)\n",
    "print(crawling[0:4]) # 0-3\n",
    "print(crawling[5:16]) #5-15\n",
    "print(crawling[17:])#17-끝\n",
    "print(crawling[19])#19(20번째 문자) - 인덱스는 0부터 시작\n",
    "print(crawling[-1:]) #마지막에서 끝까지 (마지막 문자)\n",
    "print(crawling[:-1]) #처음부터 마지막 - 1까지\n",
    "print(crawling[16:16+4]) # 16-19"
   ]
  },
  {
   "cell_type": "code",
   "execution_count": 34,
   "metadata": {},
   "outputs": [
    {
     "ename": "TypeError",
     "evalue": "'str' object does not support item assignment",
     "output_type": "error",
     "traceback": [
      "\u001b[1;31m---------------------------------------------------------------------------\u001b[0m",
      "\u001b[1;31mTypeError\u001b[0m                                 Traceback (most recent call last)",
      "\u001b[1;32m<ipython-input-34-eeaa6d47041c>\u001b[0m in \u001b[0;36m<module>\u001b[1;34m\u001b[0m\n\u001b[1;32m----> 1\u001b[1;33m \u001b[0mparsing\u001b[0m\u001b[1;33m[\u001b[0m\u001b[1;36m5\u001b[0m\u001b[1;33m]\u001b[0m\u001b[1;33m=\u001b[0m\u001b[1;34m'가'\u001b[0m \u001b[1;31m#문자열 인덱싱은 일부에는 대입 연산자를 사용할 수 없다. error\u001b[0m\u001b[1;33m\u001b[0m\u001b[1;33m\u001b[0m\u001b[0m\n\u001b[0m",
      "\u001b[1;31mTypeError\u001b[0m: 'str' object does not support item assignment"
     ]
    }
   ],
   "source": [
    "parsing[5]='가' #문자열 인덱싱은 일부에는 대입 연산자를 사용할 수 없다. error"
   ]
  },
  {
   "cell_type": "code",
   "execution_count": 35,
   "metadata": {},
   "outputs": [
    {
     "name": "stdout",
     "output_type": "stream",
     "text": [
      "True\n",
      "False\n"
     ]
    }
   ],
   "source": [
    "#문자열 연산자 in / not in 연삱\n",
    "#특정 문자열이 포함되어 있는지 여부 확인\n",
    "#결과 T/F\n",
    "#대소문자는 구별해서 찾는다.\n",
    "\n",
    "string = 'python programming'\n",
    "\n",
    "print('python' in string)\n",
    "print('Python' in string)\n",
    "\n",
    "if 'python' in string:\n",
    "    print('있음')\n",
    "else :\n",
    "    print('없음')"
   ]
  },
  {
   "cell_type": "code",
   "execution_count": null,
   "metadata": {},
   "outputs": [],
   "source": [
    "#len() : 문자열 전체 길이 반환print, 단독함수 len(변수명 또는 문자열)\n",
    "#count() : 특정 문자의 빈도수 반환 문자열 또는 변수, count(개수할 문자)\n",
    "\n",
    "string = 'programming'\n",
    "print(lem(string))\n",
    "print(string.count(\"m\"))"
   ]
  },
  {
   "cell_type": "code",
   "execution_count": 39,
   "metadata": {},
   "outputs": [
    {
     "name": "stdout",
     "output_type": "stream",
     "text": [
      "['python', 'programming']\n",
      "['홍길동', '이몽룡', '성춘향', '변학도']\n",
      "['red', 'blue', 'yellow', 'green']\n"
     ]
    }
   ],
   "source": [
    "#split() : 구분자를 기준으로 문자열을 나누고 리스트 형태로 반환\n",
    "#구분자 : 기본 공백, 옵션으로 구분자를 지정할 수 있음. - / , .\n",
    "string = 'python programming'\n",
    "split_str = string.split()\n",
    "print(split_str) # 결과는 리스트 형태로 반환\n",
    "\n",
    "names = '홍길동,이몽룡,성춘향,변학도'\n",
    "names_split = names.split(\",\")\n",
    "print(names_split)\n",
    "\n",
    "colors='red:blue:yellow:green'\n",
    "colors_split=colors.split(\":\")\n",
    "print(colors_split)"
   ]
  },
  {
   "cell_type": "code",
   "execution_count": 40,
   "metadata": {},
   "outputs": [
    {
     "name": "stdout",
     "output_type": "stream",
     "text": [
      "Python programming\n",
      "Java programming\n"
     ]
    }
   ],
   "source": [
    "#replace() : 전체 문자열에서 특정 문자열을 찾아 다른 문자열로 변경\n",
    "#문자열.replace(찾는문자열,변경할 문자열)\n",
    "\n",
    "course = 'Java programming'\n",
    "\n",
    "#Java 를 Python으로 변경\n",
    "course_replace = course.replace(\"Java\", \"Python\")\n",
    "print(course_replace)\n",
    "#기존 course 변수의 값은 변경되는가?(x)\n",
    "print(course)"
   ]
  },
  {
   "cell_type": "code",
   "execution_count": 48,
   "metadata": {},
   "outputs": [
    {
     "name": "stdout",
     "output_type": "stream",
     "text": [
      "a-b-c-d\n",
      "홍길동 이몽룡 성춘향\n"
     ]
    }
   ],
   "source": [
    "#join() : 각 문자사이에 특정 문자(열) 삽입\n",
    "a = 'aa'\n",
    "a.join('bbb') #a변수의 값을 bbb 사이에 삽입\n",
    "\n",
    "#문자열 사이에 구분자 삽입 사용\n",
    "#리스트에 있는 모든 문자를 하나로 구성할때 사용(리스트 함수)\n",
    "a='-'\n",
    "print(a.join(\"abcd\"))\n",
    "\n",
    "#리스트에 join 함수 사용\n",
    "sep = ' '\n",
    "names=['홍길동', '이몽룡', '성춘향']\n",
    "print(sep.join(names))"
   ]
  },
  {
   "cell_type": "code",
   "execution_count": 53,
   "metadata": {},
   "outputs": [
    {
     "data": {
      "text/plain": [
       "'This is my dog'"
      ]
     },
     "execution_count": 53,
     "metadata": {},
     "output_type": "execute_result"
    }
   ],
   "source": [
    "#대소문자 전환 함수\n",
    "#upper() : 전부 대문자로\n",
    "#lower() : 전부 소문자로\n",
    "#capitalize() : 문자의 첫 번째 문자를 대문자로\n",
    "#title() : 각 단어의 첫 글자를 대문자로 변경\n",
    "\n",
    "string ='this is MY DOG'\n",
    "string.upper()\n",
    "string.lower()\n",
    "string.capitalize()"
   ]
  },
  {
   "cell_type": "code",
   "execution_count": null,
   "metadata": {},
   "outputs": [],
   "source": []
  },
  {
   "cell_type": "code",
   "execution_count": null,
   "metadata": {},
   "outputs": [],
   "source": []
  },
  {
   "cell_type": "code",
   "execution_count": null,
   "metadata": {},
   "outputs": [],
   "source": []
  },
  {
   "cell_type": "code",
   "execution_count": null,
   "metadata": {},
   "outputs": [],
   "source": []
  },
  {
   "cell_type": "code",
   "execution_count": null,
   "metadata": {},
   "outputs": [],
   "source": []
  },
  {
   "cell_type": "code",
   "execution_count": null,
   "metadata": {},
   "outputs": [],
   "source": []
  }
 ],
 "metadata": {
  "kernelspec": {
   "display_name": "Python 3",
   "language": "python",
   "name": "python3"
  },
  "language_info": {
   "codemirror_mode": {
    "name": "ipython",
    "version": 3
   },
   "file_extension": ".py",
   "mimetype": "text/x-python",
   "name": "python",
   "nbconvert_exporter": "python",
   "pygments_lexer": "ipython3",
   "version": "3.7.4"
  }
 },
 "nbformat": 4,
 "nbformat_minor": 2
}

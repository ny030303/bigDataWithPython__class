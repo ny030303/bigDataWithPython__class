{
 "cells": [
  {
   "cell_type": "markdown",
   "metadata": {},
   "source": [
    "# 튜플"
   ]
  },
  {
   "cell_type": "code",
   "execution_count": 4,
   "metadata": {},
   "outputs": [
    {
     "name": "stdout",
     "output_type": "stream",
     "text": [
      "([1, 2], [4, 5])\n",
      "(5, 6, 7, 8)\n",
      "[5, 6, 7, 8]\n"
     ]
    }
   ],
   "source": [
    "#튜플 생성 (   ) 이용\n",
    "t1 = (1,2,3)\n",
    "t2 = 4,5,6 # 소괄호 없어도 튜플로 생성\n",
    "t3 = t1, (7,8,9) # 튜플 내에 또 다른 튜플 생성\n",
    "t4 = [1,2], [4,5] #리스트로 튜플 생성\n",
    "\n",
    "t5 = tuple([5,6,7,8]) #tuple 함수 사용 - 기존 구조(리스트)를 튜플로 변환\n",
    "t6 = ([5,6,7,8]) # 리스트 하나를 원소로 갖는 튜플\n",
    "\n",
    "print(t4)\n",
    "t4[0]\n",
    "print(t5)\n",
    "print(t6)"
   ]
  },
  {
   "cell_type": "code",
   "execution_count": 5,
   "metadata": {},
   "outputs": [
    {
     "data": {
      "text/plain": [
       "[1, 2, 3]"
      ]
     },
     "execution_count": 5,
     "metadata": {},
     "output_type": "execute_result"
    }
   ],
   "source": [
    "#튜플을 리스트로 변환\n",
    "#(1,2,3) -> [1,2,3]\n",
    "to_list1 = list(t1)\n",
    "to_list1\n"
   ]
  },
  {
   "cell_type": "code",
   "execution_count": 8,
   "metadata": {},
   "outputs": [
    {
     "data": {
      "text/plain": [
       "[(1, 2, 3), (7, 8, 9)]"
      ]
     },
     "execution_count": 8,
     "metadata": {},
     "output_type": "execute_result"
    }
   ],
   "source": [
    "# 튜플 내 튜플 원소는 변환 후에도 그대로 튜플로 유지\n",
    "to_list2 = list(t3)\n",
    "to_list2"
   ]
  },
  {
   "cell_type": "code",
   "execution_count": 9,
   "metadata": {},
   "outputs": [
    {
     "ename": "TypeError",
     "evalue": "'tuple' object does not support item assignment",
     "output_type": "error",
     "traceback": [
      "\u001b[1;31m---------------------------------------------------------------------------\u001b[0m",
      "\u001b[1;31mTypeError\u001b[0m                                 Traceback (most recent call last)",
      "\u001b[1;32m<ipython-input-9-fee1d5c86914>\u001b[0m in \u001b[0;36m<module>\u001b[1;34m\u001b[0m\n\u001b[0;32m      1\u001b[0m \u001b[1;31m# 튜플은 변경할 수 없다\u001b[0m\u001b[1;33m\u001b[0m\u001b[1;33m\u001b[0m\u001b[1;33m\u001b[0m\u001b[0m\n\u001b[0;32m      2\u001b[0m \u001b[0mt\u001b[0m\u001b[1;33m=\u001b[0m\u001b[1;33m(\u001b[0m\u001b[1;36m1\u001b[0m\u001b[1;33m,\u001b[0m\u001b[1;36m2\u001b[0m\u001b[1;33m,\u001b[0m\u001b[1;36m3\u001b[0m\u001b[1;33m)\u001b[0m\u001b[1;33m\u001b[0m\u001b[1;33m\u001b[0m\u001b[0m\n\u001b[1;32m----> 3\u001b[1;33m \u001b[0mt\u001b[0m\u001b[1;33m[\u001b[0m\u001b[1;36m0\u001b[0m\u001b[1;33m]\u001b[0m \u001b[1;33m=\u001b[0m \u001b[1;36m5\u001b[0m\u001b[1;33m\u001b[0m\u001b[1;33m\u001b[0m\u001b[0m\n\u001b[0m",
      "\u001b[1;31mTypeError\u001b[0m: 'tuple' object does not support item assignment"
     ]
    }
   ],
   "source": [
    "# 튜플은 변경할 수 없다\n",
    "t=(1,2,3)\n",
    "t[0] = 5 # 에러발생 : 변경 불기"
   ]
  },
  {
   "cell_type": "code",
   "execution_count": 11,
   "metadata": {},
   "outputs": [
    {
     "data": {
      "text/plain": [
       "1"
      ]
     },
     "execution_count": 11,
     "metadata": {},
     "output_type": "execute_result"
    }
   ],
   "source": [
    "t7 = (1)\n",
    "t7"
   ]
  },
  {
   "cell_type": "code",
   "execution_count": 14,
   "metadata": {},
   "outputs": [
    {
     "data": {
      "text/plain": [
       "(2,)"
      ]
     },
     "execution_count": 14,
     "metadata": {},
     "output_type": "execute_result"
    }
   ],
   "source": [
    "# 소괄호 없이 튜플을 생성할 때 원소가 1개인 튜플을 생성하는 방법\n",
    "t8 = 2,\n",
    "t8"
   ]
  },
  {
   "cell_type": "markdown",
   "metadata": {},
   "source": [
    "# 딕셔너리"
   ]
  },
  {
   "cell_type": "code",
   "execution_count": 16,
   "metadata": {},
   "outputs": [
    {
     "name": "stdout",
     "output_type": "stream",
     "text": [
      "{1: 'a'}\n",
      "{1: 'a', 2: 'b'}\n",
      "{1: 'a', 2: 'b', 'name': '홍길동'}\n"
     ]
    }
   ],
   "source": [
    "#딕셔너리 : 키와 값의 한쌍을 요소로 갖는 자료형\n",
    "#구성 : d ={키:값, 키:값 .....}\n",
    "#관련 함수\n",
    "#딕셔너리.keys()\n",
    "#딕셔너리.values()\n",
    "#딕셔너리.items()\n",
    "\n",
    "d = {1:'a'}\n",
    "print(d)\n",
    "\n",
    "#딕셔너리에 값(item) 추가\n",
    "#딕셔너리 변수[새로 추가될 key] = 키에 대응하는 값\n",
    "#키값 2에 대응하는 value 'b' 를 추가\n",
    "d[2] = 'b'\n",
    "\n",
    "print(d)\n",
    "\n",
    "#키값 name에 대응하는 value '홍길동' 아이템을 딕셔너리 d에 추가하시오.\n",
    "d['name']='홍길동'\n",
    "print(d)"
   ]
  },
  {
   "cell_type": "code",
   "execution_count": 17,
   "metadata": {},
   "outputs": [
    {
     "data": {
      "text/plain": [
       "'b'"
      ]
     },
     "execution_count": 17,
     "metadata": {},
     "output_type": "execute_result"
    }
   ],
   "source": [
    "#딕셔너리 item의 value에 접근\n",
    "#딕셔너리명[키값]\n",
    "d[2]"
   ]
  },
  {
   "cell_type": "code",
   "execution_count": 19,
   "metadata": {},
   "outputs": [
    {
     "name": "stdout",
     "output_type": "stream",
     "text": [
      "{'name': 'naver', 'url': 'www.naver.com', 'userid': 'nv', 'password': '1234'}\n",
      "<class 'dict'>\n"
     ]
    }
   ],
   "source": [
    "#딕셔너리 예제\n",
    "naver = {\n",
    "    \"name\" : \"naver\",\n",
    "    \"url\" : \"www.naver.com\",\n",
    "    \"userid\" : \"nv\",\n",
    "    \"password\" : \"1234\"\n",
    "}\n",
    "\n",
    "print(naver)\n",
    "print(type(naver))"
   ]
  },
  {
   "cell_type": "code",
   "execution_count": 20,
   "metadata": {},
   "outputs": [
    {
     "name": "stdout",
     "output_type": "stream",
     "text": [
      "dict_keys(['name', 'url', 'userid', 'password'])\n",
      "dict_values(['naver', 'www.naver.com', 'nv', '1234'])\n",
      "dict_items([('name', 'naver'), ('url', 'www.naver.com'), ('userid', 'nv'), ('password', '1234')])\n"
     ]
    }
   ],
   "source": [
    "#관련 함수\n",
    "print(naver.keys()) # key를 리스트 형태로 반환\n",
    "print(naver.values())#value를 리스트 형태로 반환\n",
    "print(naver.items())#(key,value)형태로 모든 item을 리스트로 반환\n"
   ]
  },
  {
   "cell_type": "code",
   "execution_count": 21,
   "metadata": {},
   "outputs": [
    {
     "ename": "TypeError",
     "evalue": "'dict_keys' object is not subscriptable",
     "output_type": "error",
     "traceback": [
      "\u001b[1;31m---------------------------------------------------------------------------\u001b[0m",
      "\u001b[1;31mTypeError\u001b[0m                                 Traceback (most recent call last)",
      "\u001b[1;32m<ipython-input-21-5d69ab3ece32>\u001b[0m in \u001b[0;36m<module>\u001b[1;34m\u001b[0m\n\u001b[1;32m----> 1\u001b[1;33m \u001b[0mprint\u001b[0m\u001b[1;33m(\u001b[0m\u001b[0mnaver\u001b[0m\u001b[1;33m.\u001b[0m\u001b[0mkeys\u001b[0m\u001b[1;33m(\u001b[0m\u001b[1;33m)\u001b[0m\u001b[1;33m[\u001b[0m\u001b[1;36m0\u001b[0m\u001b[1;33m]\u001b[0m\u001b[1;33m)\u001b[0m\u001b[1;33m\u001b[0m\u001b[1;33m\u001b[0m\u001b[0m\n\u001b[0m",
      "\u001b[1;31mTypeError\u001b[0m: 'dict_keys' object is not subscriptable"
     ]
    }
   ],
   "source": [
    "print(naver.keys()[0]) # 반환 객체가 list를 포함하는 dick_keys 형태로 반환\n",
    "# 사용하려면 list로 변환시켜서 사용해야 함"
   ]
  },
  {
   "cell_type": "code",
   "execution_count": 23,
   "metadata": {},
   "outputs": [
    {
     "data": {
      "text/plain": [
       "'name'"
      ]
     },
     "execution_count": 23,
     "metadata": {},
     "output_type": "execute_result"
    }
   ],
   "source": [
    "#딕셔너리 파생 객체들은 list로 변환 후 사용\n",
    "list(naver.keys())[0]"
   ]
  },
  {
   "cell_type": "code",
   "execution_count": 24,
   "metadata": {},
   "outputs": [
    {
     "name": "stdout",
     "output_type": "stream",
     "text": [
      "name\n",
      "url\n",
      "userid\n",
      "password\n"
     ]
    }
   ],
   "source": [
    "#반복문을 이용해서 naver 딕셔너리의 각 키 요소를 출력\n",
    "#반복문에서 딕셔너리 파생 객체를 사용할 때는 리스트 변환이 필요 없음\n",
    "for key in naver.keys() :\n",
    "    print(key)"
   ]
  },
  {
   "cell_type": "code",
   "execution_count": 25,
   "metadata": {},
   "outputs": [
    {
     "name": "stdout",
     "output_type": "stream",
     "text": [
      "naver\n",
      "www.naver.com\n",
      "nv\n",
      "1234\n"
     ]
    }
   ],
   "source": [
    "## 문제 : naver 딕셔너리의 values를 모두 출력하시오.\n",
    "## 단, 반복문과 딕셔너리 관련 함수를 사용 할 것\n",
    "for value in naver.values() :\n",
    "    print(value)"
   ]
  },
  {
   "cell_type": "code",
   "execution_count": 28,
   "metadata": {},
   "outputs": [
    {
     "name": "stdout",
     "output_type": "stream",
     "text": [
      "nv\n",
      "nv\n",
      "None\n"
     ]
    }
   ],
   "source": [
    "#key로 value 찾기\n",
    "print(naver[\"userid\"])\n",
    "print(naver.get(\"userid\")) #get 함수를 이용해서 value 찾기\n",
    "\n",
    "#print(naver[\"link\"]) #키가 없으므로 에러 발생\n",
    "print(naver.get('link')) # 키가 없으면 None\n",
    "print(naver.get('link', '없음')) #없음 출력"
   ]
  },
  {
   "cell_type": "code",
   "execution_count": null,
   "metadata": {},
   "outputs": [],
   "source": []
  },
  {
   "cell_type": "code",
   "execution_count": null,
   "metadata": {},
   "outputs": [],
   "source": []
  },
  {
   "cell_type": "code",
   "execution_count": null,
   "metadata": {},
   "outputs": [],
   "source": []
  }
 ],
 "metadata": {
  "kernelspec": {
   "display_name": "Python 3",
   "language": "python",
   "name": "python3"
  },
  "language_info": {
   "codemirror_mode": {
    "name": "ipython",
    "version": 3
   },
   "file_extension": ".py",
   "mimetype": "text/x-python",
   "name": "python",
   "nbconvert_exporter": "python",
   "pygments_lexer": "ipython3",
   "version": "3.7.4"
  }
 },
 "nbformat": 4,
 "nbformat_minor": 2
}

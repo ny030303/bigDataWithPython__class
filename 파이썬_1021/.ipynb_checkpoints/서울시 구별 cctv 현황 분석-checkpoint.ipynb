{
 "cells": [
  {
   "cell_type": "markdown",
   "metadata": {},
   "source": [
    "1. 서울시 각 구별 cctv 수를 파악하고 인구대비 cctv 비율을 구해 순위 비교\n",
    "2. 인구대비 cctv 평균치를 확인하고 cctv가 과하개 부족한 구를 확인\n",
    "3. 고령자 대비 cctv 수 확인\n",
    "4. 외국인 대비 cctv 수 확인\n",
    "\n",
    "-필요한 데이터\n",
    "-서울시 지자체별 cctv 현황 data\n",
    "-서울시 지자체별 인구 현황 data\n",
    "\n",
    "교재 23쪽"
   ]
  },
  {
   "cell_type": "code",
   "execution_count": 3,
   "metadata": {},
   "outputs": [],
   "source": [
    "# 데이터 분석을 위해서는 반드시 패키지를 import 해야 함\n",
    "# pandas(데이터 분석), numpy(수치분석) 패키지\n",
    "#패키지는 관련 함수 모임\n",
    "#import 패키지명 -- 패키지명이 길 경우 별명을 생성해서 쓸 수 있다.\n",
    "#import 패키지명 as 별명\n",
    "\n",
    "import pandas as pd\n",
    "import numpy as np\n",
    "\n"
   ]
  },
  {
   "cell_type": "code",
   "execution_count": 5,
   "metadata": {},
   "outputs": [
    {
     "data": {
      "text/html": [
       "<div>\n",
       "<style scoped>\n",
       "    .dataframe tbody tr th:only-of-type {\n",
       "        vertical-align: middle;\n",
       "    }\n",
       "\n",
       "    .dataframe tbody tr th {\n",
       "        vertical-align: top;\n",
       "    }\n",
       "\n",
       "    .dataframe thead th {\n",
       "        text-align: right;\n",
       "    }\n",
       "</style>\n",
       "<table border=\"1\" class=\"dataframe\">\n",
       "  <thead>\n",
       "    <tr style=\"text-align: right;\">\n",
       "      <th></th>\n",
       "      <th>기관명</th>\n",
       "      <th>소계</th>\n",
       "      <th>2013년도 이전</th>\n",
       "      <th>2014년</th>\n",
       "      <th>2015년</th>\n",
       "      <th>2016년</th>\n",
       "    </tr>\n",
       "  </thead>\n",
       "  <tbody>\n",
       "    <tr>\n",
       "      <td>0</td>\n",
       "      <td>강남구</td>\n",
       "      <td>2780</td>\n",
       "      <td>1292</td>\n",
       "      <td>430</td>\n",
       "      <td>584</td>\n",
       "      <td>932</td>\n",
       "    </tr>\n",
       "    <tr>\n",
       "      <td>1</td>\n",
       "      <td>강동구</td>\n",
       "      <td>773</td>\n",
       "      <td>379</td>\n",
       "      <td>99</td>\n",
       "      <td>155</td>\n",
       "      <td>377</td>\n",
       "    </tr>\n",
       "    <tr>\n",
       "      <td>2</td>\n",
       "      <td>강북구</td>\n",
       "      <td>748</td>\n",
       "      <td>369</td>\n",
       "      <td>120</td>\n",
       "      <td>138</td>\n",
       "      <td>204</td>\n",
       "    </tr>\n",
       "    <tr>\n",
       "      <td>3</td>\n",
       "      <td>강서구</td>\n",
       "      <td>884</td>\n",
       "      <td>388</td>\n",
       "      <td>258</td>\n",
       "      <td>184</td>\n",
       "      <td>81</td>\n",
       "    </tr>\n",
       "    <tr>\n",
       "      <td>4</td>\n",
       "      <td>관악구</td>\n",
       "      <td>1496</td>\n",
       "      <td>846</td>\n",
       "      <td>260</td>\n",
       "      <td>390</td>\n",
       "      <td>613</td>\n",
       "    </tr>\n",
       "  </tbody>\n",
       "</table>\n",
       "</div>"
      ],
      "text/plain": [
       "   기관명    소계  2013년도 이전  2014년  2015년  2016년\n",
       "0  강남구  2780       1292    430    584    932\n",
       "1  강동구   773        379     99    155    377\n",
       "2  강북구   748        369    120    138    204\n",
       "3  강서구   884        388    258    184     81\n",
       "4  관악구  1496        846    260    390    613"
      ]
     },
     "execution_count": 5,
     "metadata": {},
     "output_type": "execute_result"
    }
   ],
   "source": [
    "#데이터 파일 읽어오기\n",
    "#01. CCTV_in_Seoul.csv (파일명은 다르면 안된다. 띄어쓰기 주의 할 것)\n",
    "# 한글 포함 여부에 따라 옵션이 달라진다.\n",
    "#한글포함 시 encoding 방식을 지정해 줘야 함.\n",
    "#utf-8 방식이 있고 : utf-8\n",
    "#euc-kr 방식 있음 : ansi 방식\n",
    "\n",
    "#외부 파일 읽어올 때 경로가 중요(상대 경로 사용이 원칙)\n",
    "#사용 data는 내문서\\data\\\n",
    "#코드파일은 내문서\\파이썬_1021\\코드\n",
    "#../data/01. CCTV_in_Seoul.csv\n",
    "\n",
    "CCTV_seoul = pd.read_csv(\"../data/01. CCTV_in_Seoul.csv\", encoding='utf-8')\n",
    "#데이터 확인하기 ㅜ이해서 위 5줄 출력\n",
    "CCTV_seoul.head() #데이터 프레임형태로 출력"
   ]
  },
  {
   "cell_type": "code",
   "execution_count": null,
   "metadata": {},
   "outputs": [],
   "source": [
    "#head() 함수 : 데이터프레임의 데이터를 위에서부터 지정된 숫자만큼 출력\n",
    "CCTV_seoul.head()"
   ]
  },
  {
   "cell_type": "code",
   "execution_count": null,
   "metadata": {},
   "outputs": [],
   "source": []
  }
 ],
 "metadata": {
  "kernelspec": {
   "display_name": "Python 3",
   "language": "python",
   "name": "python3"
  },
  "language_info": {
   "codemirror_mode": {
    "name": "ipython",
    "version": 3
   },
   "file_extension": ".py",
   "mimetype": "text/x-python",
   "name": "python",
   "nbconvert_exporter": "python",
   "pygments_lexer": "ipython3",
   "version": "3.7.4"
  }
 },
 "nbformat": 4,
 "nbformat_minor": 2
}
